{
 "cells": [
  {
   "cell_type": "markdown",
   "metadata": {},
   "source": [
    "## Image Classification\n",
    "\n",
    "In this project, You will classify images from the CIFAR-10 dataset. The dataset consist of airplane, dogs, cats, and other objects.\n",
    "You will preprocess the images , then train a convolutional neural network on all the samples. The images need to be normalized and the labels\n",
    "need to be one-hot encoded. You will get to apply what you have learned and build a convoultional, max_pooling,dropout,fully connected layers. At the end, you'll get to see your neural network's predictions on the sample images.\n"
   ]
  },
  {
   "cell_type": "markdown",
   "metadata": {},
   "source": [
    "# Get the data\n",
    "\n",
    "Run the following cell to download the CIFAR-10->https://www.cs.toronto.edu/~kriz/cifar-10-python.tar.gz dataset for python."
   ]
  },
  {
   "cell_type": "code",
   "execution_count": 1,
   "metadata": {
    "collapsed": false
   },
   "outputs": [
    {
     "name": "stdout",
     "output_type": "stream",
     "text": [
      "All files found!\n"
     ]
    }
   ],
   "source": [
    "from urllib.request import urlretrieve\n",
    "from os.path import isfile, isdir\n",
    "from tqdm import tqdm\n",
    "import problem_unittests as tests\n",
    "import tarfile\n",
    "\n",
    "cifar10_dataset_folder_path = 'cifar-10-batches-py'\n",
    "\n",
    "class DLProgress(tqdm):\n",
    "    last_block = 0\n",
    "\n",
    "    def hook(self, block_num=1, block_size=1, total_size=None):\n",
    "        self.total = total_size\n",
    "        self.update((block_num - self.last_block) * block_size)\n",
    "        self.last_block = block_num\n",
    "\n",
    "if not isfile('cifar-10-python.tar.gz'):\n",
    "    with DLProgress(unit='B', unit_scale=True, miniters=1, desc='CIFAR-10 Dataset') as pbar:\n",
    "        urlretrieve(\n",
    "            'https://www.cs.toronto.edu/~kriz/cifar-10-python.tar.gz',\n",
    "            'cifar-10-python.tar.gz',\n",
    "            pbar.hook)\n",
    "\n",
    "if not isdir(cifar10_dataset_folder_path):\n",
    "    with tarfile.open('cifar-10-python.tar.gz') as tar:\n",
    "        tar.extractall()\n",
    "        tar.close()\n",
    "\n",
    "\n",
    "tests.test_folder_path(cifar10_dataset_folder_path)"
   ]
  },
  {
   "cell_type": "code",
   "execution_count": 2,
   "metadata": {
    "collapsed": true
   },
   "outputs": [],
   "source": [
    "import pickle\n",
    "import numpy as np\n",
    "import matplotlib.pyplot as plt\n",
    "from sklearn.preprocessing import LabelBinarizer"
   ]
  },
  {
   "cell_type": "code",
   "execution_count": 3,
   "metadata": {
    "collapsed": false
   },
   "outputs": [],
   "source": [
    "# run helper functions \n",
    "def _load_label_names():\n",
    "    \"\"\"\n",
    "    Load the label names from file\n",
    "    \"\"\"\n",
    "    return ['airplane', 'automobile', 'bird', 'cat', 'deer', 'dog', 'frog', 'horse', 'ship', 'truck']\n",
    "\n",
    "\n",
    "\n",
    "def load_cfar10_batch(cifar10_dataset_folder_path, batch_id):\n",
    "    \"\"\"\n",
    "    Load a batch of the dataset\n",
    "    \"\"\"\n",
    "    with open(cifar10_dataset_folder_path + '/data_batch_' + str(batch_id), mode='rb') as file:\n",
    "        batch = pickle.load(file, encoding='latin1')\n",
    "\n",
    "    features = batch['data'].reshape((len(batch['data']), 3, 32, 32)).transpose(0, 2, 3, 1)\n",
    "    labels = batch['labels']\n",
    "\n",
    "    return features, labels\n",
    "\n",
    "def display_stats(cifar10_dataset_folder_path, batch_id, sample_id):\n",
    "    \"\"\"\n",
    "    Display Stats of the the dataset\n",
    "    \"\"\"\n",
    "    batch_ids = list(range(1, 6))\n",
    "\n",
    "    if batch_id not in batch_ids:\n",
    "        print('Batch Id out of Range. Possible Batch Ids: {}'.format(batch_ids))\n",
    "        return None\n",
    "\n",
    "    features, labels = load_cfar10_batch(cifar10_dataset_folder_path, batch_id)\n",
    "\n",
    "    if not (0 <= sample_id < len(features)):\n",
    "        print('{} samples in batch {}.  {} is out of range.'.format(len(features), batch_id, sample_id))\n",
    "        return None\n",
    "\n",
    "    print('\\nStats of batch {}:'.format(batch_id))\n",
    "    print('Samples: {}'.format(len(features)))\n",
    "    print('Label Counts: {}'.format(dict(zip(*np.unique(labels, return_counts=True)))))\n",
    "    print('First 20 Labels: {}'.format(labels[:20]))\n",
    "\n",
    "    sample_image = features[sample_id]\n",
    "    sample_label = labels[sample_id]\n",
    "    label_names = _load_label_names()\n",
    "\n",
    "    print('\\nExample of Image {}:'.format(sample_id))\n",
    "    print('Image - Min Value: {} Max Value: {}'.format(sample_image.min(), sample_image.max()))\n",
    "    print('Image - Shape: {}'.format(sample_image.shape))\n",
    "    print('Label - Label Id: {} Name: {}'.format(sample_label, label_names[sample_label]))\n",
    "    plt.axis('off')\n",
    "    plt.imshow(sample_image)\n",
    "\n",
    "\n",
    "def _preprocess_and_save(normalize, one_hot_encode, features, labels, filename):\n",
    "    \"\"\"\n",
    "    Preprocess data and save it to file\n",
    "    \"\"\"\n",
    "    features = normalize(features)\n",
    "    labels = one_hot_encode(labels)\n",
    "\n",
    "    pickle.dump((features, labels), open(filename, 'wb'))\n",
    "\n",
    "\n",
    "def preprocess_and_save_data(cifar10_dataset_folder_path, normalize, one_hot_encode):\n",
    "    \"\"\"\n",
    "    Preprocess Training and Validation Data\n",
    "    \"\"\"\n",
    "    n_batches = 5\n",
    "    valid_features = []\n",
    "    valid_labels = []\n",
    "\n",
    "    for batch_i in range(1, n_batches + 1):\n",
    "        features, labels = load_cfar10_batch(cifar10_dataset_folder_path, batch_i)\n",
    "        validation_count = int(len(features) * 0.1)\n",
    "\n",
    "        # Prprocess and save a batch of training data\n",
    "        _preprocess_and_save(\n",
    "            normalize,\n",
    "            one_hot_encode,\n",
    "            features[:-validation_count],\n",
    "            labels[:-validation_count],\n",
    "            'preprocess_batch_' + str(batch_i) + '.p')\n",
    "\n",
    "        # Use a portion of training batch for validation\n",
    "        valid_features.extend(features[-validation_count:])\n",
    "        valid_labels.extend(labels[-validation_count:])\n",
    "\n",
    "    # Preprocess and Save all validation data\n",
    "    _preprocess_and_save(\n",
    "        normalize,\n",
    "        one_hot_encode,\n",
    "        np.array(valid_features),\n",
    "        np.array(valid_labels),\n",
    "        'preprocess_validation.p')\n",
    "\n",
    "    with open(cifar10_dataset_folder_path + '/test_batch', mode='rb') as file:\n",
    "        batch = pickle.load(file, encoding='latin1')\n",
    "\n",
    "    # load the training data\n",
    "    test_features = batch['data'].reshape((len(batch['data']), 3, 32, 32)).transpose(0, 2, 3, 1)\n",
    "    test_labels = batch['labels']\n",
    "\n",
    "    # Preprocess and Save all training data\n",
    "    _preprocess_and_save(\n",
    "        normalize,\n",
    "        one_hot_encode,\n",
    "        np.array(test_features),\n",
    "        np.array(test_labels),\n",
    "        'preprocess_training.p')\n",
    "\n",
    "\n",
    "def batch_features_labels(features, labels, batch_size):\n",
    "    \"\"\"\n",
    "    Split features and labels into batches\n",
    "    \"\"\"\n",
    "    for start in range(0, len(features), batch_size):\n",
    "        end = min(start + batch_size, len(features))\n",
    "        yield features[start:end], labels[start:end]\n",
    "\n",
    "\n",
    "def load_preprocess_training_batch(batch_id, batch_size):\n",
    "    \"\"\"\n",
    "    Load the Preprocessed Training data and return them in batches of <batch_size> or less\n",
    "    \"\"\"\n",
    "    filename = 'preprocess_batch_' + str(batch_id) + '.p'\n",
    "    features, labels = pickle.load(open(filename, mode='rb'))\n",
    "\n",
    "    # Return the training data in batches of size <batch_size> or less\n",
    "    return batch_features_labels(features, labels, batch_size)\n",
    "\n",
    "\n",
    "def display_image_predictions(features, labels, predictions):\n",
    "    n_classes = 10\n",
    "    label_names = _load_label_names()\n",
    "    label_binarizer = LabelBinarizer()\n",
    "    label_binarizer.fit(range(n_classes))\n",
    "    label_ids = label_binarizer.inverse_transform(np.array(labels))\n",
    "\n",
    "    fig, axies = plt.subplots(nrows=4, ncols=2)\n",
    "    fig.tight_layout()\n",
    "    fig.suptitle('Softmax Predictions', fontsize=20, y=1.1)\n",
    "\n",
    "    n_predictions = 3\n",
    "    margin = 0.05\n",
    "    ind = np.arange(n_predictions)\n",
    "    width = (1. - 2. * margin) / n_predictions\n",
    "\n",
    "    for image_i, (feature, label_id, pred_indicies, pred_values) in enumerate(zip(features, label_ids, predictions.indices, predictions.values)):\n",
    "        pred_names = [label_names[pred_i] for pred_i in pred_indicies]\n",
    "        correct_name = label_names[label_id]\n",
    "\n",
    "        axies[image_i][0].imshow(feature*255)\n",
    "        axies[image_i][0].set_title(correct_name)\n",
    "        axies[image_i][0].set_axis_off()\n",
    "\n",
    "        axies[image_i][1].barh(ind + margin, pred_values[::-1], width)\n",
    "        axies[image_i][1].set_yticks(ind + margin)\n",
    "        axies[image_i][1].set_yticklabels(pred_names[::-1])\n",
    "        axies[image_i][1].set_xticks([0, 0.5, 1.0])"
   ]
  },
  {
   "cell_type": "markdown",
   "metadata": {},
   "source": [
    " ## Explore the Data\n",
    "\n",
    "The dataset is broken into batches to prevent your machine from running out of memory. The CIFAR-10 dataset consists of 5 batches, named data_batch_1, data_batch_2, etc.. Each batch contains the labels and images that are one of the following:\n",
    "-airplane\n",
    "\n",
    "-automobile\n",
    "\n",
    "-bird\n",
    "\n",
    "-cat\n",
    "\n",
    "-deer\n",
    "\n",
    "-dog\n",
    "\n",
    "-frog\n",
    "\n",
    "-horse\n",
    "\n",
    "-ship\n",
    "\n",
    "-truck\n",
    "\n",
    "Understanding a dataset is part of making predictions on the data. Play around with the code cell below by changing the batch_id and sample_id. The batch_id is the id for a batch (1-5). The sample_id is the id for a image and label pair in the batch.\n",
    "Ask yourself \"What are all possible labels?\", \"What is the range of values for the image data?\", \"Are the labels in order or random?\". Answers to questions like these will help you preprocess the data and end up with better predictions."
   ]
  },
  {
   "cell_type": "code",
   "execution_count": 4,
   "metadata": {
    "collapsed": false
   },
   "outputs": [
    {
     "name": "stdout",
     "output_type": "stream",
     "text": [
      "\n",
      "Stats of batch 1:\n",
      "Samples: 10000\n",
      "Label Counts: {0: 1005, 1: 974, 2: 1032, 3: 1016, 4: 999, 5: 937, 6: 1030, 7: 1001, 8: 1025, 9: 981}\n",
      "First 20 Labels: [6, 9, 9, 4, 1, 1, 2, 7, 8, 3, 4, 7, 7, 2, 9, 9, 9, 3, 2, 6]\n",
      "\n",
      "Example of Image 5:\n",
      "Image - Min Value: 0 Max Value: 252\n",
      "Image - Shape: (32, 32, 3)\n",
      "Label - Label Id: 1 Name: automobile\n",
      "\n",
      "Stats of batch 2:\n",
      "Samples: 10000\n",
      "Label Counts: {0: 984, 1: 1007, 2: 1010, 3: 995, 4: 1010, 5: 988, 6: 1008, 7: 1026, 8: 987, 9: 985}\n",
      "First 20 Labels: [1, 6, 6, 8, 8, 3, 4, 6, 0, 6, 0, 3, 6, 6, 5, 4, 8, 3, 2, 6]\n",
      "\n",
      "Example of Image 7:\n",
      "Image - Min Value: 4 Max Value: 226\n",
      "Image - Shape: (32, 32, 3)\n",
      "Label - Label Id: 6 Name: frog\n"
     ]
    }
   ],
   "source": [
    "%config InlineBackend.figure_format = 'retina'\n",
    "\n",
    "\n",
    "# Explore the dataset\n",
    "batch_id = 1\n",
    "sample_id = 5\n",
    "display_stats(cifar10_dataset_folder_path, batch_id,sample_id)\n",
    "\n",
    "batch_id = 2\n",
    "sample_id = 7\n",
    "display_stats(cifar10_dataset_folder_path, batch_id,sample_id)"
   ]
  },
  {
   "cell_type": "markdown",
   "metadata": {},
   "source": [
    "## Implement Preprocess Functions\n",
    "\n",
    "## Normalize\n",
    "\n",
    "In the cell below, implement the normalize function to take in image data, x, and return it as a normalized Numpy array. The values should be in the range of 0 to 1, inclusive. The return object should be the same shape as x."
   ]
  },
  {
   "cell_type": "code",
   "execution_count": 5,
   "metadata": {
    "collapsed": false
   },
   "outputs": [
    {
     "name": "stdout",
     "output_type": "stream",
     "text": [
      "Tests Passed\n"
     ]
    }
   ],
   "source": [
    "import numpy as np\n",
    "def normalize(x):\n",
    "    \"\"\"\n",
    "    Normalize a list of sample image data in the range of 0 to 1\n",
    "    : x: List of image data.  The image shape is (32, 32, 3)\n",
    "    : return: Numpy array of normalize data\n",
    "    \"\"\"\n",
    "    # TODO: Implement Function\n",
    "    x_norm = x / float(255)\n",
    "    return x_norm\n",
    "\n",
    "\n",
    "\"\"\"\n",
    "DON'T MODIFY ANYTHING IN THIS CELL THAT IS BELOW THIS LINE\n",
    "\"\"\"\n",
    "tests.test_normalize(normalize)"
   ]
  },
  {
   "cell_type": "markdown",
   "metadata": {},
   "source": [
    "## One-hot encode\n",
    "Just like the previous code cell, you'll be implementing a function for preprocessing. This time, you'll implement the one_hot_encode function. The input, x, are a list of labels. Implement the function to return the list of labels as One-Hot encoded Numpy array. The possible values for labels are 0 to 9. The one-hot encoding function should return the same encoding for each value between each call to one_hot_encode. Make sure to save the map of encodings outside the function.\n"
   ]
  },
  {
   "cell_type": "code",
   "execution_count": 6,
   "metadata": {
    "collapsed": false
   },
   "outputs": [
    {
     "name": "stdout",
     "output_type": "stream",
     "text": [
      "Tests Passed\n"
     ]
    }
   ],
   "source": [
    "from sklearn import preprocessing\n",
    "LB = preprocessing.LabelBinarizer()\n",
    "y = np.arange(10)\n",
    "LB.fit(y)\n",
    "\n",
    "def one_hot_encode(x):\n",
    "    return LB.transform(x)\n",
    "\n",
    "tests.test_one_hot_encode(one_hot_encode)"
   ]
  },
  {
   "cell_type": "markdown",
   "metadata": {
    "collapsed": true
   },
   "source": [
    "## Randomize Data\n",
    "As you saw from exploring the data above, the order of the samples are randomized. It doesn't hurt to randomize it again, but you don't need to for this dataset."
   ]
  },
  {
   "cell_type": "markdown",
   "metadata": {},
   "source": [
    "## Preprocess all the data and save it\n",
    "Running the code cell below will preprocess all the CIFAR-10 data and save it to file. The code below also uses 10% of the training data for validation."
   ]
  },
  {
   "cell_type": "code",
   "execution_count": 7,
   "metadata": {
    "collapsed": true
   },
   "outputs": [],
   "source": [
    "\"\"\"\n",
    "DON'T MODIFY ANYTHING IN THIS CELL\n",
    "\"\"\"\n",
    "# Preprocess Training, Validation, and Testing Data\n",
    "\n",
    "preprocess_and_save_data(cifar10_dataset_folder_path, normalize, one_hot_encode)\n"
   ]
  },
  {
   "cell_type": "code",
   "execution_count": 8,
   "metadata": {
    "collapsed": true
   },
   "outputs": [],
   "source": [
    "import pickle\n",
    "import problem_unittests as tests\n",
    "\n",
    "valid_features, valid_labels = pickle.load(open('preprocess_validation.p', mode='rb'))"
   ]
  },
  {
   "cell_type": "code",
   "execution_count": 9,
   "metadata": {
    "collapsed": false
   },
   "outputs": [
    {
     "name": "stdout",
     "output_type": "stream",
     "text": [
      "Image Input Tests Passed.\n",
      "Label Input Tests Passed.\n",
      "Keep Prob Tests Passed.\n"
     ]
    }
   ],
   "source": [
    "import tensorflow as tf\n",
    "\n",
    "def neural_net_image_input(image_shape):\n",
    "    \"\"\"\n",
    "    Return a tensor for a batch of image input\n",
    "    :image_shape: Shape of the image\n",
    "    : return: Tensor for image input.\n",
    "    \"\"\"\n",
    "    return tf.placeholder(tf.float32, [None, image_shape[0],image_shape[1],image_shape[2]], name='x')\n",
    "\n",
    "def neural_net_label_input(n_classes):\n",
    "    \"\"\"\n",
    "    Return a Tensor for a batch of label input\n",
    "    :n_classes: Number of classes\n",
    "    : return: Tensor for label input.\n",
    "    \"\"\"\n",
    "    return tf.placeholder(tf.float32,[None, n_classes], name='y')\n",
    "    \n",
    "def neural_net_keep_prob_input():\n",
    "    \"\"\"\n",
    "    Return a Tensor for keep prob\n",
    "    :return : Tensor for keep prob\n",
    "    \"\"\"\n",
    "    return tf.placeholder(tf.float32, name = 'keep_prob')\n",
    "\n",
    "\"\"\"\n",
    "DON'T MODIFY ANYTHING IN THIS CELL THAT IS BELOW THIS LINE\n",
    "\"\"\"\n",
    "tf.reset_default_graph()\n",
    "tests.test_nn_image_inputs(neural_net_image_input)\n",
    "tests.test_nn_label_inputs(neural_net_label_input)\n",
    "tests.test_nn_keep_prob_inputs(neural_net_keep_prob_input)"
   ]
  },
  {
   "cell_type": "code",
   "execution_count": 13,
   "metadata": {
    "collapsed": false
   },
   "outputs": [
    {
     "name": "stdout",
     "output_type": "stream",
     "text": [
      "Tests Passed\n"
     ]
    }
   ],
   "source": [
    "def conv2d_maxpool(x_tensor, conv_num_outputs, conv_ksize, conv_strides,pool_ksize, pool_strides):\n",
    "    \"\"\"\n",
    "    Apply convolution then max pooling to x_tensor\n",
    "    :param x_tensor: TensorFlow Tensor\n",
    "    :param conv_num_outputs: Number of outputs for the convolutional layer\n",
    "    :param conv_strides: Stride 2-D Tuple for convolution\n",
    "    :param pool_ksize: kernal size 2-D Tuple for pool\n",
    "    :param pool_strides: Stride 2-D Tuple for pool\n",
    "    : return: A tensor that represents convolution and max pooling of x_tensor\n",
    "    \"\"\"\n",
    "    shape = [conv_ksize[0], conv_ksize[1], x_tensor.get_shape().as_list()[-1], conv_num_outputs]\n",
    "    weights = tf.Variable(tf.truncated_normal(shape=shape, mean=0.0, stddev=0.1))\n",
    "    bias = tf.Variable(tf.zeros([conv_num_outputs]))\n",
    "    \n",
    "    conv2d = tf.nn.conv2d(x_tensor, weights, \n",
    "                          strides=[1, conv_strides[0], conv_strides[1], 1], padding='SAME')\n",
    "    layer1 = tf.nn.bias_add(conv2d, bias)\n",
    "    layer1 = tf.nn.relu(layer1)\n",
    "    \n",
    "    layer2 = tf.nn.max_pool(layer1, ksize=[1, pool_ksize[0], pool_ksize[1], 1], \n",
    "                            strides=[1, pool_strides[0],pool_strides[1], 1], padding='SAME')\n",
    "    return layer2\n",
    " \n",
    "\"\"\"\n",
    "DON'T MODIFY ANYTHING IN THIS CELL THAT IS BELOW THIS LINE\n",
    "\"\"\"\n",
    "tests.test_con_pool(conv2d_maxpool)"
   ]
  },
  {
   "cell_type": "markdown",
   "metadata": {},
   "source": [
    "## Flatten Layer\n",
    "Implement the flatten function to change the dimension of x_tensor from a 4-D tensor to a 2-D tensor. The output should be the shape (Batch Size, Flattened Image Size). You can use TensorFlow Layers or TensorFlow Layers (contrib) for this layer.\n"
   ]
  },
  {
   "cell_type": "code",
   "execution_count": 14,
   "metadata": {
    "collapsed": false
   },
   "outputs": [
    {
     "name": "stdout",
     "output_type": "stream",
     "text": [
      "Tests Passed\n"
     ]
    }
   ],
   "source": [
    "def flatten(x_tensor):\n",
    "    \"\"\"\n",
    "    Flatten x_tensor to (Batch Size, Flattened Image Size)\n",
    "    : x_tensor: A tensor of size (Batch Size, ...), where ... are the image dimensions.\n",
    "    : return: A tensor of size (Batch Size, Flattened Image Size).\n",
    "    \"\"\"\n",
    "    # TODO: Implement Function\n",
    "    shape = x_tensor.get_shape()\n",
    "    image_size = shape[1:4].num_elements()\n",
    "    return tf.reshape(x_tensor, [-1, image_size])\n",
    "\n",
    "\n",
    "\"\"\"\n",
    "DON'T MODIFY ANYTHING IN THIS CELL THAT IS BELOW THIS LINE\n",
    "\"\"\"\n",
    "tests.test_flatten(flatten)"
   ]
  },
  {
   "cell_type": "markdown",
   "metadata": {},
   "source": [
    "## Fully-Connected Layer\n",
    "Implement the fully_conn function to apply a fully connected layer to x_tensor with the shape (Batch Size, num_outputs). You can use TensorFlow Layers or TensorFlow Layers (contrib) for this layer."
   ]
  },
  {
   "cell_type": "code",
   "execution_count": 15,
   "metadata": {
    "collapsed": false
   },
   "outputs": [
    {
     "name": "stdout",
     "output_type": "stream",
     "text": [
      "Tests Passed\n"
     ]
    }
   ],
   "source": [
    "def fully_conn(x_tensor, num_outputs):\n",
    "    \"\"\"\n",
    "    Apply a fully connected layer to x_tensor using weight and bias\n",
    "    : x_tensor: A 2-D tensor where the first dimension is batch size.\n",
    "    : num_outputs: The number of output that the new tensor should be.\n",
    "    : return: A 2-D tensor where the second dimension is num_outputs.\n",
    "    \"\"\"\n",
    "    # TODO: Implement Function\n",
    "    y_shape = x_tensor.get_shape().as_list()[-1]\n",
    "    weights = tf.Variable(tf.truncated_normal(shape=[y_shape,num_outputs], mean=0.0, stddev=0.1))\n",
    "    bias = tf.Variable(tf.zeros([num_outputs]))\n",
    "    layer = tf.matmul(x_tensor, weights) + bias\n",
    "    layer = tf.nn.relu(layer)\n",
    "    return layer\n",
    "\n",
    "\n",
    "\"\"\"\n",
    "DON'T MODIFY ANYTHING IN THIS CELL THAT IS BELOW THIS LINE\n",
    "\"\"\"\n",
    "tests.test_fully_conn(fully_conn)"
   ]
  },
  {
   "cell_type": "markdown",
   "metadata": {},
   "source": [
    "## Output Layer\n",
    "Implement the output function to apply a fully connected layer to x_tensor with the shape (Batch Size, num_outputs). You can use TensorFlow Layers or TensorFlow Layers (contrib) for this layer.\n",
    "Note: Activation, softmax, or cross entropy shouldn't be applied to this."
   ]
  },
  {
   "cell_type": "code",
   "execution_count": 16,
   "metadata": {
    "collapsed": false
   },
   "outputs": [
    {
     "name": "stdout",
     "output_type": "stream",
     "text": [
      "Tests Passed\n"
     ]
    }
   ],
   "source": [
    "def output(x_tensor, num_outputs):\n",
    "    \"\"\"\n",
    "    Apply a output layer to x_tensor using weight and bias\n",
    "    : x_tensor: A 2-D tensor where the first dimension is batch size.\n",
    "    : num_outputs: The number of output that the new tensor should be.\n",
    "    : return: A 2-D tensor where the second dimension is num_outputs.\n",
    "    \"\"\"\n",
    "    # TODO: Implement Function\n",
    "    y_shape = x_tensor.get_shape().as_list()[-1]\n",
    "    weights = tf.Variable(tf.truncated_normal(shape=[y_shape,num_outputs], mean=0.0, stddev=0.1))\n",
    "    bias = tf.Variable(tf.zeros([num_outputs]))\n",
    "    layer = tf.matmul(x_tensor, weights) + bias\n",
    "    return layer\n",
    "\n",
    "\"\"\"\n",
    "DON'T MODIFY ANYTHING IN THIS CELL THAT IS BELOW THIS LINE\n",
    "\"\"\"\n",
    "tests.test_output(output)"
   ]
  },
  {
   "cell_type": "markdown",
   "metadata": {},
   "source": [
    "## Create Convolutional Model\n",
    "Implement the function conv_net to create a convolutional neural network model. The function takes in a batch of images, x, and outputs logits. Use the layers you created above to create this model:\n",
    "Apply 1, 2, or 3 Convolution and Max Pool layers\n",
    "Apply a Flatten Layer\n",
    "Apply 1, 2, or 3 Fully Connected Layers\n",
    "Apply an Output Layer\n",
    "Return the output\n",
    "Apply TensorFlow's Dropout to one or more layers in the model using keep_prob."
   ]
  },
  {
   "cell_type": "code",
   "execution_count": 17,
   "metadata": {
    "collapsed": false
   },
   "outputs": [
    {
     "name": "stdout",
     "output_type": "stream",
     "text": [
      "Neural Network Built!\n"
     ]
    }
   ],
   "source": [
    "def conv_net(x, keep_prob):\n",
    "    \"\"\"\n",
    "    Create a convolutional neural network model\n",
    "    : x: Placeholder tensor that holds image data.\n",
    "    : keep_prob: Placeholder tensor that hold dropout keep probability.\n",
    "    : return: Tensor that represents logits\n",
    "    \"\"\"\n",
    "    # TODO: Apply 1, 2, or 3 Convolution and Max Pool layers\n",
    "    #    Play around with different number of outputs, kernel size and stride\n",
    "    # Function Definition from Above:\n",
    "    x_tensor = x\n",
    "    conv_num_outputs = 16\n",
    "    conv_ksize = (4,4)\n",
    "    conv_strides = (1,1)\n",
    "    pool_ksize = (2,2)\n",
    "    pool_strides = (2,2)\n",
    "    conv1 = conv2d_maxpool(x_tensor, conv_num_outputs, conv_ksize, conv_strides, pool_ksize, pool_strides)\n",
    "    \n",
    "    conv_num_outputs = 32\n",
    "    conv2 = conv2d_maxpool(conv1, conv_num_outputs, conv_ksize, conv_strides, pool_ksize, pool_strides)\n",
    "    \n",
    "    conv_num_outputs = 64\n",
    "    conv3 = conv2d_maxpool(conv2, conv_num_outputs, conv_ksize, conv_strides, pool_ksize, pool_strides)\n",
    "    \n",
    "    x_tensor = conv3\n",
    "    # TODO: Apply a Flatten Layer\n",
    "    # Function Definition from Above:\n",
    "    x_tensor = flatten(x_tensor)\n",
    "\n",
    "    # TODO: Apply 1, 2, or 3 Fully Connected Layers\n",
    "    #    Play around with different number of outputs\n",
    "    # Function Definition from Above:\n",
    "    num_outputs = 10\n",
    "    x_tensor = fully_conn(x_tensor, num_outputs)\n",
    "    x_tensor = tf.nn.dropout(x_tensor, keep_prob)\n",
    "    \n",
    "    # TODO: Apply an Output Layer\n",
    "    #    Set this to the number of classes\n",
    "    # Function Definition from Above:\n",
    "    x_tensor = output(x_tensor, num_outputs)\n",
    "    \n",
    "    \n",
    "    # TODO: return output\n",
    "    return x_tensor\n",
    "\n",
    "\n",
    "\"\"\"\n",
    "DON'T MODIFY ANYTHING IN THIS CELL THAT IS BELOW THIS LINE\n",
    "\"\"\"\n",
    "\n",
    "##############################\n",
    "## Build the Neural Network ##\n",
    "##############################\n",
    "\n",
    "# Remove previous weights, bias, inputs, etc..\n",
    "tf.reset_default_graph()\n",
    "\n",
    "# Inputs\n",
    "x = neural_net_image_input((32, 32, 3))\n",
    "y = neural_net_label_input(10)\n",
    "keep_prob = neural_net_keep_prob_input()\n",
    "\n",
    "# Model\n",
    "logits = conv_net(x, keep_prob)\n",
    "\n",
    "# Name logits Tensor, so that is can be loaded from disk after training\n",
    "logits = tf.identity(logits, name='logits')\n",
    "\n",
    "# Loss and Optimizer\n",
    "cost = tf.reduce_mean(tf.nn.softmax_cross_entropy_with_logits(logits=logits, labels=y))\n",
    "optimizer = tf.train.AdamOptimizer().minimize(cost)\n",
    "\n",
    "# Accuracy\n",
    "correct_pred = tf.equal(tf.argmax(logits, 1), tf.argmax(y, 1))\n",
    "accuracy = tf.reduce_mean(tf.cast(correct_pred, tf.float32), name='accuracy')\n",
    "\n",
    "tests.test_conv_net(conv_net)"
   ]
  },
  {
   "cell_type": "markdown",
   "metadata": {},
   "source": [
    "## Train the Neural Network\n",
    "Single Optimization\n",
    "Implement the function train_neural_network to do a single optimization. The optimization should use optimizer to optimize in session with a feed_dict of the following:\n",
    "x for image input\n",
    "y for labels\n",
    "keep_prob for keep probability for dropout\n",
    "This function will be called for each batch, so tf.global_variables_initializer() has already been called.\n",
    "Note: Nothing needs to be returned. This function is only optimizing the neural network."
   ]
  },
  {
   "cell_type": "code",
   "execution_count": 18,
   "metadata": {
    "collapsed": false
   },
   "outputs": [
    {
     "name": "stdout",
     "output_type": "stream",
     "text": [
      "Tests Passed\n"
     ]
    }
   ],
   "source": [
    "def train_neural_network(session, optimizer, keep_probability, feature_batch, label_batch):\n",
    "    \"\"\"\n",
    "    Optimize the session on a batch of images and labels\n",
    "    : session: Current TensorFlow session\n",
    "    : optimizer: TensorFlow optimizer function\n",
    "    : keep_probability: keep probability\n",
    "    : feature_batch: Batch of Numpy image data\n",
    "    : label_batch: Batch of Numpy label data\n",
    "    \"\"\"\n",
    "    # TODO: Implement Function\n",
    "    session.run(optimizer,feed_dict={x:feature_batch, y:label_batch, keep_prob:keep_probability})\n",
    "\n",
    "\n",
    "\"\"\"\n",
    "DON'T MODIFY ANYTHING IN THIS CELL THAT IS BELOW THIS LINE\n",
    "\"\"\"\n",
    "tests.test_train_nn(train_neural_network)"
   ]
  },
  {
   "cell_type": "markdown",
   "metadata": {},
   "source": [
    "## Show Stats\n",
    "Implement the function print_stats to print loss and validation accuracy. Use the global variables valid_features and valid_labels to calculate validation accuracy. Use a keep probability of 1.0 to calculate the loss and validation accuracy."
   ]
  },
  {
   "cell_type": "code",
   "execution_count": 19,
   "metadata": {
    "collapsed": true
   },
   "outputs": [],
   "source": [
    "def print_stats(session, feature_batch, label_batch, cost, accuracy):\n",
    "    \"\"\"\n",
    "    Print information about loss and validation accuracy\n",
    "    : session: Current TensorFlow session\n",
    "    : feature_batch: Batch of Numpy image data\n",
    "    : label_batch: Batch of Numpy label data\n",
    "    : cost: TensorFlow cost function\n",
    "    : accuracy: TensorFlow accuracy function\n",
    "    \"\"\"\n",
    "    # TODO: Implement Function\n",
    "    \n",
    "    # Calculate batch loss and accuracy\n",
    "    loss = session.run(cost, feed_dict={x: feature_batch, y: label_batch, keep_prob: 1.})\n",
    "    valid_acc = session.run(accuracy, feed_dict={x: valid_features, y: valid_labels, keep_prob: 1.})\n",
    "\n",
    "    print('Loss: {:>10.4f} Validation Accuracy: {:.6f}'.format(loss, valid_acc))\n",
    "    pass"
   ]
  },
  {
   "cell_type": "markdown",
   "metadata": {},
   "source": [
    "## Hyperparameters\n",
    "Tune the following parameters:\n",
    "Set epochs to the number of iterations until the network stops learning or start overfitting\n",
    "Set batch_size to the highest number that your machine has memory for. Most people set them to common sizes of memory:\n",
    "64\n",
    "128\n",
    "256\n",
    "...\n",
    "Set keep_probability to the probability of keeping a node using dropout"
   ]
  },
  {
   "cell_type": "code",
   "execution_count": 20,
   "metadata": {
    "collapsed": true
   },
   "outputs": [],
   "source": [
    "# TODO: Tune Parameters\n",
    "epochs = 30\n",
    "batch_size = 128\n",
    "keep_probability = 0.75"
   ]
  },
  {
   "cell_type": "markdown",
   "metadata": {},
   "source": [
    "## Train on a Single CIFAR-10 Batch\n",
    "Instead of training the neural network on all the CIFAR-10 batches of data, let's use a single batch. This should save time while you iterate on the model to get a better accuracy. Once the final validation accuracy is 50% or greater, run the model on all the data in the next section."
   ]
  },
  {
   "cell_type": "code",
   "execution_count": 22,
   "metadata": {
    "collapsed": false
   },
   "outputs": [
    {
     "name": "stdout",
     "output_type": "stream",
     "text": [
      "Checking the Training on a Single Batch...\n",
      "Epoch  1, CIFAR-10 Batch 1:  Loss:     2.1729 Validation Accuracy: 0.192200\n",
      "Epoch  2, CIFAR-10 Batch 1:  Loss:     2.0638 Validation Accuracy: 0.278800\n",
      "Epoch  3, CIFAR-10 Batch 1:  Loss:     1.9859 Validation Accuracy: 0.312200\n",
      "Epoch  4, CIFAR-10 Batch 1:  Loss:     1.9500 Validation Accuracy: 0.331800\n",
      "Epoch  5, CIFAR-10 Batch 1:  Loss:     1.8625 Validation Accuracy: 0.337600\n",
      "Epoch  6, CIFAR-10 Batch 1:  Loss:     1.8093 Validation Accuracy: 0.348000\n",
      "Epoch  7, CIFAR-10 Batch 1:  Loss:     1.7315 Validation Accuracy: 0.361200\n",
      "Epoch  8, CIFAR-10 Batch 1:  Loss:     1.6851 Validation Accuracy: 0.355000\n",
      "Epoch  9, CIFAR-10 Batch 1:  Loss:     1.6328 Validation Accuracy: 0.371400\n",
      "Epoch 10, CIFAR-10 Batch 1:  Loss:     1.5891 Validation Accuracy: 0.383400\n",
      "Epoch 11, CIFAR-10 Batch 1:  Loss:     1.5587 Validation Accuracy: 0.377800\n",
      "Epoch 12, CIFAR-10 Batch 1:  Loss:     1.4935 Validation Accuracy: 0.400400\n",
      "Epoch 13, CIFAR-10 Batch 1:  Loss:     1.4776 Validation Accuracy: 0.407800\n",
      "Epoch 14, CIFAR-10 Batch 1:  Loss:     1.5267 Validation Accuracy: 0.392400\n",
      "Epoch 15, CIFAR-10 Batch 1:  Loss:     1.4358 Validation Accuracy: 0.401000\n",
      "Epoch 16, CIFAR-10 Batch 1:  Loss:     1.3861 Validation Accuracy: 0.407400\n",
      "Epoch 17, CIFAR-10 Batch 1:  Loss:     1.4084 Validation Accuracy: 0.393000\n",
      "Epoch 18, CIFAR-10 Batch 1:  Loss:     1.3749 Validation Accuracy: 0.399200\n",
      "Epoch 19, CIFAR-10 Batch 1:  Loss:     1.3311 Validation Accuracy: 0.422400\n",
      "Epoch 20, CIFAR-10 Batch 1:  Loss:     1.3072 Validation Accuracy: 0.389200\n",
      "Epoch 21, CIFAR-10 Batch 1:  Loss:     1.3062 Validation Accuracy: 0.397400\n",
      "Epoch 22, CIFAR-10 Batch 1:  Loss:     1.2674 Validation Accuracy: 0.419200\n",
      "Epoch 23, CIFAR-10 Batch 1:  Loss:     1.2408 Validation Accuracy: 0.422200\n",
      "Epoch 24, CIFAR-10 Batch 1:  Loss:     1.2108 Validation Accuracy: 0.432400\n",
      "Epoch 25, CIFAR-10 Batch 1:  Loss:     1.2081 Validation Accuracy: 0.425200\n",
      "Epoch 26, CIFAR-10 Batch 1:  Loss:     1.1918 Validation Accuracy: 0.433200\n",
      "Epoch 27, CIFAR-10 Batch 1:  Loss:     1.1903 Validation Accuracy: 0.433000\n",
      "Epoch 28, CIFAR-10 Batch 1:  Loss:     1.1593 Validation Accuracy: 0.422200\n",
      "Epoch 29, CIFAR-10 Batch 1:  Loss:     1.1397 Validation Accuracy: 0.438200\n",
      "Epoch 30, CIFAR-10 Batch 1:  Loss:     1.0988 Validation Accuracy: 0.445400\n"
     ]
    }
   ],
   "source": [
    "\"\"\"\n",
    "DON'T MODIFY ANYTHING IN THIS CELL\n",
    "\"\"\"\n",
    "print('Checking the Training on a Single Batch...')\n",
    "with tf.Session() as sess:\n",
    "    # Initializing the variables\n",
    "    sess.run(tf.global_variables_initializer())\n",
    "    \n",
    "    # Training cycle\n",
    "    for epoch in range(epochs):\n",
    "        batch_i = 1\n",
    "        for batch_features, batch_labels in load_preprocess_training_batch(batch_i, batch_size):\n",
    "            train_neural_network(sess, optimizer, keep_probability, batch_features, batch_labels)\n",
    "        print('Epoch {:>2}, CIFAR-10 Batch {}:  '.format(epoch + 1, batch_i), end='')\n",
    "        print_stats(sess, batch_features, batch_labels, cost, accuracy)"
   ]
  },
  {
   "cell_type": "markdown",
   "metadata": {},
   "source": [
    "## Fully Train the Model\n",
    "Now that you got a good accuracy with a single CIFAR-10 batch, try it with all five batches."
   ]
  },
  {
   "cell_type": "code",
   "execution_count": 24,
   "metadata": {
    "collapsed": false
   },
   "outputs": [
    {
     "name": "stdout",
     "output_type": "stream",
     "text": [
      "Training...\n",
      "Epoch  1, CIFAR-10 Batch 1:  Loss:     2.2206 Validation Accuracy: 0.200000\n",
      "Epoch  1, CIFAR-10 Batch 2:  Loss:     2.0089 Validation Accuracy: 0.267000\n",
      "Epoch  1, CIFAR-10 Batch 3:  Loss:     1.6632 Validation Accuracy: 0.311600\n",
      "Epoch  1, CIFAR-10 Batch 4:  Loss:     1.7139 Validation Accuracy: 0.347000\n",
      "Epoch  1, CIFAR-10 Batch 5:  Loss:     1.7249 Validation Accuracy: 0.369200\n",
      "Epoch  2, CIFAR-10 Batch 1:  Loss:     1.8616 Validation Accuracy: 0.372000\n",
      "Epoch  2, CIFAR-10 Batch 2:  Loss:     1.7076 Validation Accuracy: 0.382800\n",
      "Epoch  2, CIFAR-10 Batch 3:  Loss:     1.3176 Validation Accuracy: 0.402800\n",
      "Epoch  2, CIFAR-10 Batch 4:  Loss:     1.5910 Validation Accuracy: 0.404600\n",
      "Epoch  2, CIFAR-10 Batch 5:  Loss:     1.5152 Validation Accuracy: 0.435400\n",
      "Epoch  3, CIFAR-10 Batch 1:  Loss:     1.7107 Validation Accuracy: 0.450600\n",
      "Epoch  3, CIFAR-10 Batch 2:  Loss:     1.4592 Validation Accuracy: 0.467000\n",
      "Epoch  3, CIFAR-10 Batch 3:  Loss:     1.2030 Validation Accuracy: 0.462200\n",
      "Epoch  3, CIFAR-10 Batch 4:  Loss:     1.5402 Validation Accuracy: 0.463800\n",
      "Epoch  3, CIFAR-10 Batch 5:  Loss:     1.4276 Validation Accuracy: 0.485000\n",
      "Epoch  4, CIFAR-10 Batch 1:  Loss:     1.4989 Validation Accuracy: 0.502000\n",
      "Epoch  4, CIFAR-10 Batch 2:  Loss:     1.3226 Validation Accuracy: 0.503400\n",
      "Epoch  4, CIFAR-10 Batch 3:  Loss:     1.1420 Validation Accuracy: 0.508400\n",
      "Epoch  4, CIFAR-10 Batch 4:  Loss:     1.4437 Validation Accuracy: 0.506800\n",
      "Epoch  4, CIFAR-10 Batch 5:  Loss:     1.3555 Validation Accuracy: 0.497600\n",
      "Epoch  5, CIFAR-10 Batch 1:  Loss:     1.4608 Validation Accuracy: 0.528800\n",
      "Epoch  5, CIFAR-10 Batch 2:  Loss:     1.2706 Validation Accuracy: 0.523800\n",
      "Epoch  5, CIFAR-10 Batch 3:  Loss:     1.0608 Validation Accuracy: 0.512400\n",
      "Epoch  5, CIFAR-10 Batch 4:  Loss:     1.3336 Validation Accuracy: 0.534600\n",
      "Epoch  5, CIFAR-10 Batch 5:  Loss:     1.2645 Validation Accuracy: 0.534800\n",
      "Epoch  6, CIFAR-10 Batch 1:  Loss:     1.3920 Validation Accuracy: 0.550200\n",
      "Epoch  6, CIFAR-10 Batch 2:  Loss:     1.2183 Validation Accuracy: 0.551600\n",
      "Epoch  6, CIFAR-10 Batch 3:  Loss:     0.9738 Validation Accuracy: 0.526200\n",
      "Epoch  6, CIFAR-10 Batch 4:  Loss:     1.3104 Validation Accuracy: 0.555200\n",
      "Epoch  6, CIFAR-10 Batch 5:  Loss:     1.1746 Validation Accuracy: 0.549200\n",
      "Epoch  7, CIFAR-10 Batch 1:  Loss:     1.3258 Validation Accuracy: 0.564200\n",
      "Epoch  7, CIFAR-10 Batch 2:  Loss:     1.1033 Validation Accuracy: 0.558200\n",
      "Epoch  7, CIFAR-10 Batch 3:  Loss:     0.8966 Validation Accuracy: 0.546800\n",
      "Epoch  7, CIFAR-10 Batch 4:  Loss:     1.2681 Validation Accuracy: 0.563400\n",
      "Epoch  7, CIFAR-10 Batch 5:  Loss:     1.1449 Validation Accuracy: 0.557400\n",
      "Epoch  8, CIFAR-10 Batch 1:  Loss:     1.2229 Validation Accuracy: 0.582200\n",
      "Epoch  8, CIFAR-10 Batch 2:  Loss:     1.0575 Validation Accuracy: 0.578000\n",
      "Epoch  8, CIFAR-10 Batch 3:  Loss:     0.8468 Validation Accuracy: 0.579200\n",
      "Epoch  8, CIFAR-10 Batch 4:  Loss:     1.2124 Validation Accuracy: 0.561400\n",
      "Epoch  8, CIFAR-10 Batch 5:  Loss:     1.1174 Validation Accuracy: 0.564000\n",
      "Epoch  9, CIFAR-10 Batch 1:  Loss:     1.1970 Validation Accuracy: 0.581000\n",
      "Epoch  9, CIFAR-10 Batch 2:  Loss:     1.0013 Validation Accuracy: 0.585600\n",
      "Epoch  9, CIFAR-10 Batch 3:  Loss:     0.8002 Validation Accuracy: 0.585000\n",
      "Epoch  9, CIFAR-10 Batch 4:  Loss:     1.1753 Validation Accuracy: 0.588800\n",
      "Epoch  9, CIFAR-10 Batch 5:  Loss:     1.0734 Validation Accuracy: 0.580200\n",
      "Epoch 10, CIFAR-10 Batch 1:  Loss:     1.1623 Validation Accuracy: 0.588600\n",
      "Epoch 10, CIFAR-10 Batch 2:  Loss:     0.9483 Validation Accuracy: 0.589800\n",
      "Epoch 10, CIFAR-10 Batch 3:  Loss:     0.7422 Validation Accuracy: 0.587200\n",
      "Epoch 10, CIFAR-10 Batch 4:  Loss:     1.1391 Validation Accuracy: 0.595200\n",
      "Epoch 10, CIFAR-10 Batch 5:  Loss:     1.0100 Validation Accuracy: 0.598200\n",
      "Epoch 11, CIFAR-10 Batch 1:  Loss:     1.1182 Validation Accuracy: 0.596600\n",
      "Epoch 11, CIFAR-10 Batch 2:  Loss:     0.9307 Validation Accuracy: 0.594600\n",
      "Epoch 11, CIFAR-10 Batch 3:  Loss:     0.7217 Validation Accuracy: 0.603600\n",
      "Epoch 11, CIFAR-10 Batch 4:  Loss:     1.0837 Validation Accuracy: 0.600000\n",
      "Epoch 11, CIFAR-10 Batch 5:  Loss:     0.9937 Validation Accuracy: 0.570000\n",
      "Epoch 12, CIFAR-10 Batch 1:  Loss:     1.0311 Validation Accuracy: 0.596800\n",
      "Epoch 12, CIFAR-10 Batch 2:  Loss:     0.8443 Validation Accuracy: 0.607400\n",
      "Epoch 12, CIFAR-10 Batch 3:  Loss:     0.7247 Validation Accuracy: 0.606600\n",
      "Epoch 12, CIFAR-10 Batch 4:  Loss:     1.0313 Validation Accuracy: 0.606400\n",
      "Epoch 12, CIFAR-10 Batch 5:  Loss:     0.9053 Validation Accuracy: 0.590000\n",
      "Epoch 13, CIFAR-10 Batch 1:  Loss:     1.0213 Validation Accuracy: 0.601200\n",
      "Epoch 13, CIFAR-10 Batch 2:  Loss:     0.8210 Validation Accuracy: 0.616800\n",
      "Epoch 13, CIFAR-10 Batch 3:  Loss:     0.6671 Validation Accuracy: 0.610800\n",
      "Epoch 13, CIFAR-10 Batch 4:  Loss:     1.0532 Validation Accuracy: 0.606800\n",
      "Epoch 13, CIFAR-10 Batch 5:  Loss:     0.8386 Validation Accuracy: 0.595800\n",
      "Epoch 14, CIFAR-10 Batch 1:  Loss:     0.9585 Validation Accuracy: 0.608000\n",
      "Epoch 14, CIFAR-10 Batch 2:  Loss:     0.8435 Validation Accuracy: 0.601000\n",
      "Epoch 14, CIFAR-10 Batch 3:  Loss:     0.7257 Validation Accuracy: 0.607200\n",
      "Epoch 14, CIFAR-10 Batch 4:  Loss:     1.0012 Validation Accuracy: 0.619400\n",
      "Epoch 14, CIFAR-10 Batch 5:  Loss:     0.8680 Validation Accuracy: 0.595800\n",
      "Epoch 15, CIFAR-10 Batch 1:  Loss:     0.9222 Validation Accuracy: 0.613000\n",
      "Epoch 15, CIFAR-10 Batch 2:  Loss:     0.7479 Validation Accuracy: 0.617800\n",
      "Epoch 15, CIFAR-10 Batch 3:  Loss:     0.6549 Validation Accuracy: 0.611400\n",
      "Epoch 15, CIFAR-10 Batch 4:  Loss:     0.9601 Validation Accuracy: 0.625000\n",
      "Epoch 15, CIFAR-10 Batch 5:  Loss:     0.7710 Validation Accuracy: 0.607400\n",
      "Epoch 16, CIFAR-10 Batch 1:  Loss:     0.8937 Validation Accuracy: 0.604800\n",
      "Epoch 16, CIFAR-10 Batch 2:  Loss:     0.7110 Validation Accuracy: 0.617600\n",
      "Epoch 16, CIFAR-10 Batch 3:  Loss:     0.6353 Validation Accuracy: 0.623600\n",
      "Epoch 16, CIFAR-10 Batch 4:  Loss:     0.8796 Validation Accuracy: 0.621800\n",
      "Epoch 16, CIFAR-10 Batch 5:  Loss:     0.7380 Validation Accuracy: 0.620400\n",
      "Epoch 17, CIFAR-10 Batch 1:  Loss:     0.8510 Validation Accuracy: 0.613600\n",
      "Epoch 17, CIFAR-10 Batch 2:  Loss:     0.7163 Validation Accuracy: 0.629200\n",
      "Epoch 17, CIFAR-10 Batch 3:  Loss:     0.6168 Validation Accuracy: 0.603800\n",
      "Epoch 17, CIFAR-10 Batch 4:  Loss:     0.8542 Validation Accuracy: 0.634200\n",
      "Epoch 17, CIFAR-10 Batch 5:  Loss:     0.7249 Validation Accuracy: 0.625000\n",
      "Epoch 18, CIFAR-10 Batch 1:  Loss:     0.8143 Validation Accuracy: 0.609600\n",
      "Epoch 18, CIFAR-10 Batch 2:  Loss:     0.6710 Validation Accuracy: 0.629200\n",
      "Epoch 18, CIFAR-10 Batch 3:  Loss:     0.6094 Validation Accuracy: 0.601200\n",
      "Epoch 18, CIFAR-10 Batch 4:  Loss:     0.8293 Validation Accuracy: 0.635200\n",
      "Epoch 18, CIFAR-10 Batch 5:  Loss:     0.6261 Validation Accuracy: 0.627800\n",
      "Epoch 19, CIFAR-10 Batch 1:  Loss:     0.8010 Validation Accuracy: 0.614600\n",
      "Epoch 19, CIFAR-10 Batch 2:  Loss:     0.6612 Validation Accuracy: 0.637000\n",
      "Epoch 19, CIFAR-10 Batch 3:  Loss:     0.5825 Validation Accuracy: 0.634200\n",
      "Epoch 19, CIFAR-10 Batch 4:  Loss:     0.8084 Validation Accuracy: 0.639200\n",
      "Epoch 19, CIFAR-10 Batch 5:  Loss:     0.6348 Validation Accuracy: 0.619600\n",
      "Epoch 20, CIFAR-10 Batch 1:  Loss:     0.7738 Validation Accuracy: 0.614800\n",
      "Epoch 20, CIFAR-10 Batch 2:  Loss:     0.6637 Validation Accuracy: 0.631600\n",
      "Epoch 20, CIFAR-10 Batch 3:  Loss:     0.5584 Validation Accuracy: 0.623200\n",
      "Epoch 20, CIFAR-10 Batch 4:  Loss:     0.7749 Validation Accuracy: 0.642200\n",
      "Epoch 20, CIFAR-10 Batch 5:  Loss:     0.5755 Validation Accuracy: 0.633600\n",
      "Epoch 21, CIFAR-10 Batch 1:  Loss:     0.7648 Validation Accuracy: 0.601800\n",
      "Epoch 21, CIFAR-10 Batch 2:  Loss:     0.6538 Validation Accuracy: 0.640000\n",
      "Epoch 21, CIFAR-10 Batch 3:  Loss:     0.5170 Validation Accuracy: 0.621200\n",
      "Epoch 21, CIFAR-10 Batch 4:  Loss:     0.7805 Validation Accuracy: 0.642400\n",
      "Epoch 21, CIFAR-10 Batch 5:  Loss:     0.5762 Validation Accuracy: 0.626800\n",
      "Epoch 22, CIFAR-10 Batch 1:  Loss:     0.7046 Validation Accuracy: 0.614600\n",
      "Epoch 22, CIFAR-10 Batch 2:  Loss:     0.6299 Validation Accuracy: 0.644400\n",
      "Epoch 22, CIFAR-10 Batch 3:  Loss:     0.4729 Validation Accuracy: 0.642800\n",
      "Epoch 22, CIFAR-10 Batch 4:  Loss:     0.7514 Validation Accuracy: 0.638200\n",
      "Epoch 22, CIFAR-10 Batch 5:  Loss:     0.5210 Validation Accuracy: 0.627000\n",
      "Epoch 23, CIFAR-10 Batch 1:  Loss:     0.7116 Validation Accuracy: 0.618600\n",
      "Epoch 23, CIFAR-10 Batch 2:  Loss:     0.5980 Validation Accuracy: 0.643800\n",
      "Epoch 23, CIFAR-10 Batch 3:  Loss:     0.4594 Validation Accuracy: 0.643200\n",
      "Epoch 23, CIFAR-10 Batch 4:  Loss:     0.7223 Validation Accuracy: 0.637400\n",
      "Epoch 23, CIFAR-10 Batch 5:  Loss:     0.5383 Validation Accuracy: 0.621200\n",
      "Epoch 24, CIFAR-10 Batch 1:  Loss:     0.6798 Validation Accuracy: 0.636800\n",
      "Epoch 24, CIFAR-10 Batch 2:  Loss:     0.5973 Validation Accuracy: 0.639400\n",
      "Epoch 24, CIFAR-10 Batch 3:  Loss:     0.4445 Validation Accuracy: 0.632600\n",
      "Epoch 24, CIFAR-10 Batch 4:  Loss:     0.7419 Validation Accuracy: 0.639400\n",
      "Epoch 24, CIFAR-10 Batch 5:  Loss:     0.6291 Validation Accuracy: 0.619200\n",
      "Epoch 25, CIFAR-10 Batch 1:  Loss:     0.6557 Validation Accuracy: 0.622000\n",
      "Epoch 25, CIFAR-10 Batch 2:  Loss:     0.5637 Validation Accuracy: 0.640000\n",
      "Epoch 25, CIFAR-10 Batch 3:  Loss:     0.4506 Validation Accuracy: 0.634200\n",
      "Epoch 25, CIFAR-10 Batch 4:  Loss:     0.6880 Validation Accuracy: 0.640000\n",
      "Epoch 25, CIFAR-10 Batch 5:  Loss:     0.5572 Validation Accuracy: 0.638400\n",
      "Epoch 26, CIFAR-10 Batch 1:  Loss:     0.6352 Validation Accuracy: 0.639600\n",
      "Epoch 26, CIFAR-10 Batch 2:  Loss:     0.5230 Validation Accuracy: 0.642600\n",
      "Epoch 26, CIFAR-10 Batch 3:  Loss:     0.4244 Validation Accuracy: 0.630800\n",
      "Epoch 26, CIFAR-10 Batch 4:  Loss:     0.6375 Validation Accuracy: 0.634800\n",
      "Epoch 26, CIFAR-10 Batch 5:  Loss:     0.5211 Validation Accuracy: 0.637600\n",
      "Epoch 27, CIFAR-10 Batch 1:  Loss:     0.6049 Validation Accuracy: 0.632400\n",
      "Epoch 27, CIFAR-10 Batch 2:  Loss:     0.5419 Validation Accuracy: 0.644000\n",
      "Epoch 27, CIFAR-10 Batch 3:  Loss:     0.4131 Validation Accuracy: 0.621000\n",
      "Epoch 27, CIFAR-10 Batch 4:  Loss:     0.6726 Validation Accuracy: 0.634200\n",
      "Epoch 27, CIFAR-10 Batch 5:  Loss:     0.5315 Validation Accuracy: 0.634400\n",
      "Epoch 28, CIFAR-10 Batch 1:  Loss:     0.5936 Validation Accuracy: 0.625400\n",
      "Epoch 28, CIFAR-10 Batch 2:  Loss:     0.5713 Validation Accuracy: 0.642600\n",
      "Epoch 28, CIFAR-10 Batch 3:  Loss:     0.3921 Validation Accuracy: 0.622200\n",
      "Epoch 28, CIFAR-10 Batch 4:  Loss:     0.6505 Validation Accuracy: 0.630400\n",
      "Epoch 28, CIFAR-10 Batch 5:  Loss:     0.4901 Validation Accuracy: 0.632600\n",
      "Epoch 29, CIFAR-10 Batch 1:  Loss:     0.5722 Validation Accuracy: 0.619800\n",
      "Epoch 29, CIFAR-10 Batch 2:  Loss:     0.5679 Validation Accuracy: 0.638000\n",
      "Epoch 29, CIFAR-10 Batch 3:  Loss:     0.4051 Validation Accuracy: 0.623600\n",
      "Epoch 29, CIFAR-10 Batch 4:  Loss:     0.6443 Validation Accuracy: 0.633200\n",
      "Epoch 29, CIFAR-10 Batch 5:  Loss:     0.4711 Validation Accuracy: 0.642600\n",
      "Epoch 30, CIFAR-10 Batch 1:  Loss:     0.5764 Validation Accuracy: 0.640200\n",
      "Epoch 30, CIFAR-10 Batch 2:  Loss:     0.5102 Validation Accuracy: 0.646200\n",
      "Epoch 30, CIFAR-10 Batch 3:  Loss:     0.3599 Validation Accuracy: 0.646400\n",
      "Epoch 30, CIFAR-10 Batch 4:  Loss:     0.6194 Validation Accuracy: 0.633400\n",
      "Epoch 30, CIFAR-10 Batch 5:  Loss:     0.4635 Validation Accuracy: 0.633800\n"
     ]
    }
   ],
   "source": [
    "\"\"\"\n",
    "DON'T MODIFY ANYTHING IN THIS CELL\n",
    "\"\"\"\n",
    "save_model_path = './image_classification'\n",
    "\n",
    "print('Training...')\n",
    "with tf.Session() as sess:\n",
    "    # Initializing the variables\n",
    "    sess.run(tf.global_variables_initializer())\n",
    "    \n",
    "    # Training cycle\n",
    "    for epoch in range(epochs):\n",
    "        # Loop over all batches\n",
    "        n_batches = 5\n",
    "        for batch_i in range(1, n_batches + 1):\n",
    "            for batch_features, batch_labels in load_preprocess_training_batch(batch_i, batch_size):\n",
    "                train_neural_network(sess, optimizer, keep_probability, batch_features, batch_labels)\n",
    "            print('Epoch {:>2}, CIFAR-10 Batch {}:  '.format(epoch + 1, batch_i), end='')\n",
    "            print_stats(sess, batch_features, batch_labels, cost, accuracy)\n",
    "            \n",
    "    # Save Model\n",
    "    saver = tf.train.Saver()\n",
    "    save_path = saver.save(sess, save_model_path)"
   ]
  },
  {
   "cell_type": "markdown",
   "metadata": {},
   "source": [
    "## Checkpoint\n",
    "The model has been saved to disk.\n",
    "## Test Model\n",
    "Test your model against the test dataset. This will be your final accuracy. You should have an accuracy greater than 50%. If you don't, keep tweaking the model architecture and parameters."
   ]
  },
  {
   "cell_type": "code",
   "execution_count": 28,
   "metadata": {
    "collapsed": false
   },
   "outputs": [
    {
     "name": "stdout",
     "output_type": "stream",
     "text": [
      "Testing Accuracy: 0.6204509493670886\n",
      "\n"
     ]
    },
    {
     "data": {
      "image/png": "[encoded data removed]",
      "text/plain": [
       "<matplotlib.figure.Figure at 0x7efce116f208>"
      ]
     },
     "metadata": {
      "image/png": {
       "height": 445,
       "width": 493
      }
     },
     "output_type": "display_data"
    }
   ],
   "source": [
    "\"\"\"\n",
    "DON'T MODIFY ANYTHING IN THIS CELL\n",
    "\"\"\"\n",
    "%matplotlib inline\n",
    "%config InlineBackend.figure_format = 'retina'\n",
    "\n",
    "import tensorflow as tf\n",
    "import pickle\n",
    "import random\n",
    "\n",
    "# Set batch size if not already set\n",
    "try:\n",
    "    if batch_size:\n",
    "        pass\n",
    "except NameError:\n",
    "    batch_size = 64\n",
    "\n",
    "save_model_path = './image_classification'\n",
    "n_samples = 4\n",
    "top_n_predictions = 3\n",
    "\n",
    "def test_model():\n",
    "    \"\"\"\n",
    "    Test the saved model against the test dataset\n",
    "    \"\"\"\n",
    "\n",
    "    test_features, test_labels = pickle.load(open('preprocess_training.p', mode='rb'))\n",
    "    loaded_graph = tf.Graph()\n",
    "\n",
    "    with tf.Session(graph=loaded_graph) as sess:\n",
    "        # Load model\n",
    "        loader = tf.train.import_meta_graph(save_model_path + '.meta')\n",
    "        loader.restore(sess, save_model_path)\n",
    "\n",
    "        # Get Tensors from loaded model\n",
    "        loaded_x = loaded_graph.get_tensor_by_name('x:0')\n",
    "        loaded_y = loaded_graph.get_tensor_by_name('y:0')\n",
    "        loaded_keep_prob = loaded_graph.get_tensor_by_name('keep_prob:0')\n",
    "        loaded_logits = loaded_graph.get_tensor_by_name('logits:0')\n",
    "        loaded_acc = loaded_graph.get_tensor_by_name('accuracy:0')\n",
    "        \n",
    "        # Get accuracy in batches for memory limitations\n",
    "        test_batch_acc_total = 0\n",
    "        test_batch_count = 0\n",
    "        \n",
    "        for train_feature_batch, train_label_batch in batch_features_labels(test_features, test_labels, batch_size):\n",
    "            test_batch_acc_total += sess.run(\n",
    "                loaded_acc,\n",
    "                feed_dict={loaded_x: train_feature_batch, loaded_y: train_label_batch, loaded_keep_prob: 1.0})\n",
    "            test_batch_count += 1\n",
    "\n",
    "        print('Testing Accuracy: {}\\n'.format(test_batch_acc_total/test_batch_count))\n",
    "\n",
    "        # Print Random Samples\n",
    "        random_test_features, random_test_labels = tuple(zip(*random.sample(list(zip(test_features, test_labels)), n_samples)))\n",
    "        random_test_predictions = sess.run(\n",
    "            tf.nn.top_k(tf.nn.softmax(loaded_logits), top_n_predictions),\n",
    "            feed_dict={loaded_x: random_test_features, loaded_y: random_test_labels, loaded_keep_prob: 1.0})\n",
    "        display_image_predictions(random_test_features, random_test_labels, random_test_predictions)\n",
    "\n",
    "\n",
    "test_model()"
   ]
  },
  {
   "cell_type": "markdown",
   "metadata": {},
   "source": [
    "# Why 50-70% Accuracy?\n",
    "You might be wondering why you can't get an accuracy any higher. First things first, 50% isn't bad for a simple CNN. Pure guessing would get you 10% accuracy. However, you might notice people are getting scores well above 70%. That's because we haven't taught you all there is to know about neural networks. We still need to cover a few more techniques."
   ]
  },
  {
   "cell_type": "code",
   "execution_count": null,
   "metadata": {
    "collapsed": true
   },
   "outputs": [],
   "source": []
  }
 ],
 "metadata": {
  "anaconda-cloud": {},
  "kernelspec": {
   "display_name": "Python [conda root]",
   "language": "python",
   "name": "conda-root-py"
  },
  "language_info": {
   "codemirror_mode": {
    "name": "ipython",
    "version": 3
   },
   "file_extension": ".py",
   "mimetype": "text/x-python",
   "name": "python",
   "nbconvert_exporter": "python",
   "pygments_lexer": "ipython3",
   "version": "3.5.2"
  }
 },
 "nbformat": 4,
 "nbformat_minor": 1
}
